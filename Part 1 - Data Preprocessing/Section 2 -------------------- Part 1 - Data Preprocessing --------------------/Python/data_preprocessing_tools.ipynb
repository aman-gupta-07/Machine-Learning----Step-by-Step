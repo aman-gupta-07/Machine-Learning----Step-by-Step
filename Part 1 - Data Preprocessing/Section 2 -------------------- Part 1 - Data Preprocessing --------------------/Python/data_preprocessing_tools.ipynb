{
 "cells": [
  {
   "cell_type": "markdown",
   "metadata": {
    "colab_type": "text",
    "id": "37puETfgRzzg"
   },
   "source": [
    "# Data Preprocessing Tools"
   ]
  },
  {
   "cell_type": "markdown",
   "metadata": {
    "colab_type": "text",
    "id": "EoRP98MpR-qj"
   },
   "source": [
    "## Importing the libraries"
   ]
  },
  {
   "cell_type": "code",
   "execution_count": 7,
   "metadata": {
    "colab": {},
    "colab_type": "code",
    "id": "N-qiINBQSK2g"
   },
   "outputs": [],
   "source": [
    "import numpy as np\n",
    "import matplotlib.pyplot as plt\n",
    "import pandas as pd"
   ]
  },
  {
   "cell_type": "markdown",
   "metadata": {
    "colab_type": "text",
    "id": "RopL7tUZSQkT"
   },
   "source": [
    "## Importing the dataset"
   ]
  },
  {
   "cell_type": "code",
   "execution_count": 8,
   "metadata": {
    "colab": {},
    "colab_type": "code",
    "id": "WwEPNDWySTKm"
   },
   "outputs": [],
   "source": [
    "dataset = pd.read_csv('Data.csv')\n",
    "X = dataset.iloc[:, :-1].values\n",
    "y = dataset.iloc[:, -1].values"
   ]
  },
  {
   "cell_type": "code",
   "execution_count": 9,
   "metadata": {
    "colab": {
     "base_uri": "https://localhost:8080/",
     "height": 188
    },
    "colab_type": "code",
    "id": "hCsz2yCebe1R",
    "outputId": "1e4cc568-4e51-4b38-9d46-4aa3f15204be"
   },
   "outputs": [
    {
     "name": "stdout",
     "output_type": "stream",
     "text": [
      "[['France' 44.0 72000.0]\n",
      " ['Spain' 27.0 48000.0]\n",
      " ['Germany' 30.0 54000.0]\n",
      " ['Spain' 38.0 61000.0]\n",
      " ['Germany' 40.0 nan]\n",
      " ['France' 35.0 58000.0]\n",
      " ['Spain' nan 52000.0]\n",
      " ['France' 48.0 79000.0]\n",
      " ['Germany' 50.0 83000.0]\n",
      " ['France' 37.0 67000.0]]\n"
     ]
    }
   ],
   "source": [
    "print(X)"
   ]
  },
  {
   "cell_type": "code",
   "execution_count": 10,
   "metadata": {
    "colab": {
     "base_uri": "https://localhost:8080/",
     "height": 34
    },
    "colab_type": "code",
    "id": "eYrOQ43XcJR3",
    "outputId": "e0873b2a-3b08-4bab-ef0d-15b88858ca44"
   },
   "outputs": [
    {
     "name": "stdout",
     "output_type": "stream",
     "text": [
      "['No' 'Yes' 'No' 'No' 'Yes' 'Yes' 'No' 'Yes' 'No' 'Yes']\n"
     ]
    }
   ],
   "source": [
    "print(y)"
   ]
  },
  {
   "cell_type": "markdown",
   "metadata": {},
   "source": [
    "### Let's work out with another dataset"
   ]
  },
  {
   "cell_type": "code",
   "execution_count": 24,
   "metadata": {},
   "outputs": [],
   "source": [
    "# Provided data\n",
    "from io import StringIO\n",
    "data = \"\"\"PassengerId,Survived,Pclass,Name,Sex,Age,SibSp,Parch,Ticket,Fare,Cabin,Embarked\n",
    "2,1,1,\"Cumings, Mrs. John Bradley (Florence Briggs Thayer)\",female,38.0,1,0,PC 17599,71.2833,C85,C\n",
    "4,1,1,\"Futrelle, Mrs. Jacques Heath (Lily May Peel)\",female,35.0,1,0,113803,53.1,C123,S\n",
    "7,0,1,\"McCarthy, Mr. Timothy J\",male,54.0,0,0,17463,51.8625,E46,S\n",
    "11,1,3,\"Sandstrom, Miss. Marguerite Rut\",female,4.0,1,1,PP 9549,16.7,G6,S\n",
    "12,1,1,\"Bonnell, Miss. Elizabeth\",female,58.0,0,0,113783,26.55,C103,S\n",
    "22,1,2,\"Beesley, Mr. Lawrence\",male,34.0,0,0,248698,13.0,D56,S\n",
    "24,1,1,\"Sloper, Mr. William Thompson\",male,28.0,0,0,113788,35.5,A6,S\n",
    "28,0,1,\"Fortune, Mr. Charles Alexander\",male,19.0,3,2,19950,263.0,C23 C25 C27,S\n",
    "53,1,1,\"Harper, Mrs. Henry Sleeper (Myna Haxtun)\",female,49.0,1,0,PC 17572,76.7292,D33,C\n",
    "55,0,1,\"Ostby, Mr. Engelhart Cornelius\",male,65.0,0,1,113509,61.9792,B30,C\n",
    "63,0,1,\"Harris, Mr. Henry Birkhardt\",male,45.0,1,0,36973,83.475,C83,S\n",
    "67,1,2,\"Nye, Mrs. (Elizabeth Ramell)\",female,29.0,0,0,C.A. 29395,10.5,F33,S\n",
    "76,0,3,\"Moen, Mr. Sigurd Hansen\",male,25.0,0,0,348123,7.65,F G73,S\n",
    "89,1,1,\"Fortune, Miss. Mabel Helen\",female,23.0,3,2,19950,263.0,C23 C25 C27,S\n",
    "93,0,1,\"Chaffee, Mr. Herbert Fuller\",male,46.0,1,0,W.E.P. 5734,61.175,E31,S\n",
    "97,0,1,\"Goldschmidt, Mr. George B\",male,71.0,0,0,PC 17754,34.6542,A5,C\n",
    "98,1,1,\"Greenfield, Mr. William Bertram\",male,23.0,0,1,PC 17759,63.3583,D10 D12,C\n",
    "103,0,1,\"White, Mr. Richard Frasar\",male,21.0,0,1,35281,77.2875,D26,S\n",
    "111,0,1,\"Porter, Mr. Walter Chamberlain\",male,47.0,0,0,110465,52.0,C110,S\n",
    "119,0,1,\"Baxter, Mr. Quigg Edmond\",male,24.0,0,1,PC 17558,247.5208,B58 B60,C\n",
    "124,1,2,\"Webber, Miss. Susan\",female,32.5,0,0,27267,13.0,E101,S\n",
    "125,0,1,\"White, Mr. Percival Wayland\",male,54.0,0,1,35281,77.2875,D26,S\n",
    "137,1,1,\"Newsom, Miss. Helen Monypeny\",female,19.0,0,2,11752,26.2833,D47,S\n",
    "138,0,1,\"Futrelle, Mr. Jacques Heath\",male,37.0,1,0,113803,53.1,C123,S\n",
    "140,0,1,\"Giglio, Mr. Victor\",male,24.0,0,0,PC 17593,79.2,B86,C\n",
    "149,0,2,\"Navratil, Mr. Michel (\"\"Louis M Hoffman\"\")\",male,36.5,0,2,230080,26.0,F2,S\n",
    "152,1,1,\"Pears, Mrs. Thomas (Edith Wearne)\",female,22.0,1,0,113776,66.6,C2,S\n",
    "171,0,1,\"Van der hoef, Mr. Wyckoff\",male,61.0,0,0,111240,33.5,B19,S\n",
    "175,0,1,\"Smith, Mr. James Clinch\",male,56.0,0,0,17764,30.6958,A7,C\n",
    "178,0,1,\"Isham, Miss. Ann Elizabeth\",female,50.0,0,0,PC 17595,28.7125,C49,C\n",
    "184,1,2,\"Becker, Master. Richard F\",male,1.0,2,1,230136,39.0,F4,S\n",
    "194,1,2,\"Navratil, Master. Michel M\",male,3.0,1,1,230080,26.0,F2,S\n",
    "195,1,1,\"Brown, Mrs. James Joseph (Margaret Tobin)\",female,44.0,0,0,PC 17610,27.7208,B4,C\n",
    "196,1,1,\"Lurette, Miss. Elise\",female,58.0,0,0,PC 17569,146.5208,B80,C\n",
    "206,0,3,\"Strom, Miss. Telma Matilda\",female,2.0,0,1,347054,10.4625,G6,S\n",
    "210,1,1,\"Blank, Mr. Henry\",male,40.0,0,0,112277,31.0,A31,C\n",
    "216,1,1,\"Newell, Miss. Madeleine\",female,31.0,1,0,35273,113.275,D36,C\n",
    "219,1,1,\"Bazzani, Miss. Albina\",female,32.0,0,0,11813,76.2917,D15,C\n",
    "225,1,1,\"Hoyt, Mr. Frederick Maxfield\",male,38.0,1,0,19943,90.0,C93,S\n",
    "231,1,1,\"Harris, Mrs. Henry Birkhardt (Irene Wallach)\",female,35.0,1,0,36973,83.475,C83,S\n",
    "246,0,1,\"Minahan, Dr. William Edward\",male,44.0,2,0,19928,90.0,C78,Q\n",
    "249,1,1,\"Beckwith, Mr. Richard Leonard\",male,37.0,1,1,11751,52.5542,D35,S\n",
    "252,0,3,\"Strom, Mrs. Wilhelm (Elna Matilda Persson)\",female,29.0,1,1,347054,10.4625,G6,S\n",
    "253,0,1,\"Stead, Mr. William Thomas\",male,62.0,0,0,113514,26.55,C87,S\n",
    "258,1,1,\"Cherry, Miss. Gladys\",female,30.0,0,0,110152,86.5,B77,S\n",
    "263,0,1,\"Taussig, Mr. Emil\",male,52.0,1,1,110413,79.65,E67,S\n",
    "264,0,1,\"Harrison, Mr. William\",male,40.0,0,0,112059,0.0,B94,S\n",
    "269,1,1,\"Graham, Mrs. William Thompson (Edith Junkins)\",female,58.0,0,1,PC 17582,153.4625,C125,S\n",
    "270,1,1,\"Bissette, Miss. Amelia\",female,35.0,0,0,PC 17760,135.6333,C99,S\n",
    "274,0,1,\"Natsch, Mr. Charles H\",male,37.0,0,1,PC 17596,29.7,C118,C\n",
    "276,1,1,\"Andrews, Miss. Kornelia Theodosia\",female,63.0,1,0,13502,77.9583,D7,S\n",
    "292,1,1,\"Bishop, Mrs. Dickinson H (Helen Walton)\",female,19.0,1,0,11967,91.0792,B49,C\n",
    "293,0,2,\"Levy, Mr. Rene Jacques\",male,36.0,0,0,SC/Paris 2163,12.875,D,C\n",
    "298,0,1,\"Allison, Miss. Helen Loraine\",female,2.0,1,2,113781,151.55,C22 C26,S\n",
    "300,1,1,\"Baxter, Mrs. James (Helene DeLaudeniere Chaput)\",female,50.0,0,1,PC 17558,247.5208,B58 B60,C\n",
    "306,1,1,\"Allison, Master. Hudson Trevor\",male,0.92,1,2,113781,151.55,C22 C26,S\n",
    "308,1,1,\"Penasco y Castellana, Mrs. Victor de Satode (Maria Josefa Perez de Soto y Vallejo)\",female,17.0,1,0,PC 17758,108.9,C65,C\n",
    "310,1,1,\"Francatelli, Miss. Laura Mabel\",female,30.0,0,0,PC 17485,56.9292,E36,C\n",
    "311,1,1,\"Hays, Miss. Margaret Bechstein\",female,24.0,0,0,11767,83.1583,C54,C\n",
    "312,1,1,\"Ryerson, Miss. Emily Borie\",female,18.0,2,2,PC 17608,262.375,B57 B59 B63 B66,C\n",
    "319,1,1,\"Wick, Miss. Mary Natalie\",female,31.0,0,2,36928,164.8667,C7,S\n",
    "320,1,1,\"Spedden, Mrs. Frederic Oakley (Margaretta Corning Stone)\",female,40.0,1,1,16966,134.5,E34,C\n",
    "326,1,1,\"Young, Miss. Marie Grice\",female,36.0,0,0,PC 17760,135.6333,C32,C\n",
    "328,1,2,\"Ball, Mrs. (Ada E Hall)\",female,36.0,0,0,28551,13.0,D,S\n",
    "330,1,1,\"Hippach, Miss. Jean Gertrude\",female,16.0,0,1,111361,57.9792,B18,C\n",
    "332,0,1,\"Partner, Mr. Austen\",male,45.5,0,0,113043,28.5,C124,S\n",
    "333,0,1,\"Graham, Mr. George Edward\",male,38.0,0,1,PC 17582,153.4625,C91,S\n",
    "337,0,1,\"Pears, Mr. Thomas Clinton\",male,29.0,1,0,113776,66.6,C2,S\n",
    "338,1,1,\"Burns, Miss. Elizabeth Margaret\",female,41.0,0,0,16966,134.5,E40,C\n",
    "340,0,1,\"Blackwell, Mr. Stephen Weart\",male,45.0,0,0,113784,35.5,T,S\n",
    "341,1,2,\"Navratil, Master. Edmond Roger\",male,2.0,1,1,230080,26.0,F2,S\n",
    "342,1,1,\"Fortune, Miss. Alice Elizabeth\",female,24.0,3,2,19950,263.0,C23 C25 C27,S\n",
    "346,1,2,\"Brown, Miss. Amelia \"\"Mildred\",female,24.0,0,0,248733,13.0,F33,S\n",
    "357,1,1,\"Bowerman, Miss. Elsie Edith\",female,22.0,0,1,113505,55.0,E33,S\n",
    "367,1,1,\"Warren, Mrs. Frank Manley (Anna Sophia Atkinson)\",female,60.0,1,0,110813,75.25,D37,C\n",
    "370,1,1,\"Aubart, Mme. Leontine Pauline\",female,24.0,0,0,PC 17477,69.3,B35,C\n",
    "371,1,1,\"Harder, Mr. George Achilles\",male,25.0,1,0,11765,55.4417,E50,C\n",
    "378,0,1,\"Widener, Mr. Harry Elkins\",male,27.0,0,2,113503,211.5,C82,C\n",
    "391,1,1,\"Carter, Mr. William Ernest\",male,36.0,1,2,113760,120.0,B96 B98,S\n",
    "394,1,1,\"Newell, Miss. Marjorie\",female,23.0,1,0,35273,113.275,D36,C\n",
    "395,1,3,\"Sandstrom, Mrs. Hjalmar (Agnes Charlotta Bengtsson)\",female,24.0,0,2,PP 9549,16.7,G6,S\n",
    "413,1,1,\"Minahan, Miss. Daisy E\",female,33.0,1,0,19928,90.0,C78,Q\n",
    "430,1,3,\"Pickard, Mr. Berk (Berk Trembisky)\",male,32.0,0,0,SOTON/O.Q. 392078,8.05,E10,S\n",
    "431,1,1,\"Bjornstrom-Steffansson, Mr. Mauritz Hakan\",male,28.0,0,0,110564,26.55,C52,S\n",
    "435,0,1,\"Silvey, Mr. William Baird\",male,50.0,1,0,13507,55.9,E44,S\n",
    "436,1,1,\"Carter, Miss. Lucile Polk\",female,14.0,1,2,113760,120.0,B96 B98,S\n",
    "439,0,1,\"Fortune, Mr. Mark\",male,64.0,1,4,19950,263.0,C23 C25 C27,S\n",
    "446,1,1,\"Dodge, Master. Washington\",male,4.0,0,2,33638,81.8583,A34,S\n",
    "450,1,1,\"Peuchen, Major. Arthur Godfrey\",male,52.0,0,0,113786,30.5,C104,S\n",
    "453,0,1,\"Foreman, Mr. Benjamin Laventall\",male,30.0,0,0,113051,27.75,C111,C\n",
    "454,1,1,\"Goldenberg, Mr. Samuel L\",male,49.0,1,0,17453,89.1042,C92,C\n",
    "457,0,1,\"Millet, Mr. Francis Davis\",male,65.0,0,0,13509,26.55,E38,S\n",
    "461,1,1,\"Anderson, Mr. Harry\",male,48.0,0,0,19952,26.55,E12,S\n",
    "463,0,1,\"Gee, Mr. Arthur H\",male,47.0,0,0,111320,38.5,E63,S\n",
    "474,1,2,\"Jerwan, Mrs. Amin S (Marie Marthe Thuillard)\",female,23.0,0,0,SC/AH Basle 541,13.7917,D,C\n",
    "485,1,1,\"Bishop, Mr. Dickinson H\",male,25.0,1,0,11967,91.0792,B49,C\n",
    "487,1,1,\"Hoyt, Mrs. Frederick Maxfield (Jane Anne Forby)\",female,35.0,1,0,19943,90.0,C93,S\n",
    "488,0,1,\"Kent, Mr. Edward Austin\",male,58.0,0,0,11771,29.7,B37,C\n",
    "493,0,1,\"Molson, Mr. Harry Markland\",male,55.0,0,0,113787,30.5,C30,S\n",
    "497,1,1,\"Eustis, Miss. Elizabeth Mussey\",female,54.0,1,0,36947,78.2667,D20,C\n",
    "499,0,1,\"Allison, Mrs. Hudson J C (Bessie Waldo Daniels)\",female,25.0,1,2,113781,151.55,C22 C26,S\n",
    "505,1,1,\"Maioni, Miss. Roberta\",female,16.0,0,0,110152,86.5,B79,S\n",
    "506,0,1,\"Penasco y Castellana, Mr. Victor de Satode\",male,18.0,1,0,PC 17758,108.9,C65,C\n",
    "513,1,1,\"McGough, Mr. James Robert\",male,36.0,0,0,PC 17473,26.2875,E25,S\n",
    "516,0,1,\"Walker, Mr. William Anderson\",male,47.0,0,0,36967,34.0208,D46,S\n",
    "517,1,2,\"Lemore, Mrs. (Amelia Milley)\",female,34.0,0,0,C.A. 34260,10.5,F33,S\n",
    "521,1,1,\"Perreault, Miss. Anne\",female,30.0,0,0,12749,93.5,B73,S\n",
    "524,1,1,\"Hippach, Mrs. Louis Albert (Ida Sophia Fischer)\",female,44.0,0,1,111361,57.9792,B18,C\n",
    "537,0,1,\"Butt, Major. Archibald Willingham\",male,45.0,0,0,113050,26.55,B38,S\n",
    "540,1,1,\"Frolicher, Miss. Hedwig Margaritha\",female,22.0,0,2,13568,49.5,B39,C\n",
    "541,1,1,\"Crosby, Miss. Harriet R\",female,36.0,0,2,WE/P 5735,71.0,B22,S\n",
    "545,0,1,\"Douglas, Mr. Walter Donald\",male,50.0,1,0,PC 17761,106.425,C86,C\n",
    "551,1,1,\"Thayer, Mr. John Borland Jr\",male,17.0,0,2,17421,110.8833,C70,C\n",
    "557,1,1,\"Duff Gordon, Lady. (Lucille Christiana Sutherland) (\"\"Mrs Morgan\"\")\",female,48.0,1,0,11755,39.6,A16,C\n",
    "559,1,1,\"Taussig, Mrs. Emil (Tillie Mandelbaum)\",female,39.0,1,1,110413,79.65,E67,S\n",
    "572,1,1,\"Appleton, Mrs. Edward Dale (Charlotte Lamson)\",female,53.0,2,0,11769,51.4792,C101,S\n",
    "573,1,1,\"Flynn, Mr. John Irwin (\"\"Irving\"\")\",male,36.0,0,0,PC 17474,26.3875,E25,S\n",
    "578,1,1,\"Silvey, Mrs. William Baird (Alice Munger)\",female,39.0,1,0,13507,55.9,E44,S\n",
    "582,1,1,\"Thayer, Mrs. John Borland (Marian Longstreth Morris)\",female,39.0,1,1,17421,110.8833,C68,C\n",
    "584,0,1,\"Ross, Mr. John Hugo\",male,36.0,0,0,13049,40.125,A10,C\n",
    "586,1,1,\"Taussig, Miss. Ruth\",female,18.0,0,2,110413,79.65,E68,S\n",
    "588,1,1,\"Frolicher-Stehli, Mr. Maxmillian\",male,60.0,1,1,13567,79.2,B41,C\n",
    "592,1,1,\"Stephenson, Mrs. Walter Bertram (Martha Eustis)\",female,52.0,1,0,36947,78.2667,D20,C\n",
    "600,1,1,\"Duff Gordon, Sir. Cosmo Edmund (\"\"Mr Morgan\"\")\",male,49.0,1,0,PC 17485,56.9292,A20,C\n",
    "610,1,1,\"Shutes, Miss. Elizabeth W\",female,40.0,0,0,PC 17582,153.4625,C125,S\n",
    "619,1,2,\"Becker, Miss. Marion Louise\",female,4.0,2,1,230136,39.0,F4,S\n",
    "622,1,1,\"Kimball, Mr. Edwin Nelson Jr\",male,42.0,1,0,11753,52.5542,D19,S\n",
    "626,0,1,\"Sutton, Mr. Frederick\",male,61.0,0,0,36963,32.3208,D50,S\n",
    "628,1,1,\"Longley, Miss. Gretchen Fiske\",female,21.0,0,0,13502,77.9583,D9,S\n",
    "631,1,1,\"Barkworth, Mr. Algernon Henry Wilson\",male,80.0,0,0,27042,30.0,A23,S\n",
    "633,1,1,\"Stahelin-Maeglin, Dr. Max\",male,32.0,0,0,13214,30.5,B50,C\n",
    "642,1,1,\"Sagesser, Mlle. Emma\",female,24.0,0,0,PC 17477,69.3,B35,C\n",
    "646,1,1,\"Harper, Mr. Henry Sleeper\",male,48.0,1,0,PC 17572,76.7292,D33,C\n",
    "648,1,1,\"Simonius-Blumer, Col. Oberst Alfons\",male,56.0,0,0,13213,35.5,A26,C\n",
    "660,0,1,\"Newell, Mr. Arthur Webster\",male,58.0,0,2,35273,113.275,D48,C\n",
    "663,0,1,\"Colley, Mr. Edward Pomeroy\",male,47.0,0,0,5727,25.5875,E58,S\n",
    "672,0,1,\"Davidson, Mr. Thornton\",male,31.0,1,0,F.C. 12750,52.0,B71,S\n",
    "680,1,1,\"Cardeza, Mr. Thomas Drake Martinez\",male,36.0,0,1,PC 17755,512.3292,B51 B53 B55,C\n",
    "682,1,1,\"Hassab, Mr. Hammad\",male,27.0,0,0,PC 17572,76.7292,D49,C\n",
    "690,1,1,\"Madill, Miss. Georgette Alexandra\",female,15.0,0,1,24160,211.3375,B5,S\n",
    "691,1,1,\"Dick, Mr. Albert Adrian\",male,31.0,1,0,17474,57.0,B20,S\n",
    "699,0,1,\"Thayer, Mr. John Borland\",male,49.0,1,1,17421,110.8833,C68,C\n",
    "700,0,3,\"Humblen, Mr. Adolf Mathias Nicolai Olsen\",male,42.0,0,0,348121,7.65,F G63,S\n",
    "701,1,1,\"Astor, Mrs. John Jacob (Madeleine Talmadge Force)\",female,18.0,1,0,PC 17757,227.525,C62 C64,C\n",
    "702,1,1,\"Silverthorne, Mr. Spencer Victor\",male,35.0,0,0,PC 17475,26.2875,E24,S\n",
    "708,1,1,\"Calderhead, Mr. Edward Pennington\",male,42.0,0,0,PC 17476,26.2875,E24,S\n",
    "711,1,1,\"Mayne, Mlle. Berthe Antonine (\"\"Mrs de Villiers\"\")\",female,24.0,0,0,PC 17482,49.5042,C90,C\n",
    "713,1,1,\"Taylor, Mr. Elmer Zebley\",male,48.0,1,0,19996,52.0,C126,S\n",
    "716,0,3,\"Soholt, Mr. Peter Andreas Lauritz Andersen\",male,19.0,0,0,348124,7.65,F G73,S\n",
    "717,1,1,\"Endres, Miss. Caroline Louise\",female,38.0,0,0,PC 17757,227.525,C45,C\n",
    "718,1,2,\"Troutt, Miss. Edwina Celia Winnie\",female,27.0,0,0,34218,10.5,E101,S\n",
    "725,1,1,\"Chambers, Mr. Norman Campbell\",male,27.0,1,0,113806,53.1,E8,S\n",
    "731,1,1,\"Allen, Miss. Elisabeth Walton\",female,29.0,0,0,24160,211.3375,B5,S\n",
    "738,1,1,\"Lesurer, Mr. Gustave J\",male,35.0,0,0,PC 17755,512.3292,B101,C\n",
    "742,0,1,\"Cavendish, Mr. Tyrell William\",male,36.0,1,0,19877,78.85,C46,S\n",
    "743,1,1,\"Ryerson, Miss. Susan Parker Suzette\",female,21.0,2,2,PC 17608,262.375,B57 B59 B63 B66,C\n",
    "746,0,1,\"Crosby, Capt. Edward Gifford\",male,70.0,1,1,WE/P 5735,71.0,B22,S\n",
    "749,0,1,\"Marvin, Mr. Daniel Warner\",male,19.0,1,0,113773,53.1,D30,S\n",
    "752,1,3,\"Moor, Master. Meier\",male,6.0,0,1,392096,12.475,E121,S\n",
    "760,1,1,\"Rothes, the Countess. of (Lucy Noel Martha Dyer-Edwards)\",female,33.0,0,0,110152,86.5,B77,S\n",
    "764,1,1,\"Carter, Mrs. William Ernest (Lucile Polk)\",female,36.0,1,2,113760,120.0,B96 B98,S\n",
    "766,1,1,\"Hogeboom, Mrs. John C (Anna Andrews)\",female,51.0,1,0,13502,77.9583,D11,S\n",
    "773,0,2,\"Mack, Mrs. (Mary)\",female,57.0,0,0,S.O./P.P. 3,10.5,E77,S\n",
    "780,1,1,\"Robert, Mrs. Edward Scott (Elisabeth Walton McMillan)\",female,43.0,0,1,24160,211.3375,B3,S\n",
    "782,1,1,\"Dick, Mrs. Albert Adrian (Vera Gillespie)\",female,17.0,1,0,17474,57.0,B20,S\n",
    "783,0,1,\"Long, Mr. Milton Clyde\",male,29.0,0,0,113501,30.0,D6,S\n",
    "790,0,1,\"Guggenheim, Mr. Benjamin\",male,46.0,0,0,PC 17593,79.2,B82 B84,C\n",
    "797,1,1,\"Leader, Dr. Alice (Farnham)\",female,49.0,0,0,17465,25.9292,D17,S\n",
    "803,1,1,\"Carter, Master. William Thornton II\",male,11.0,1,2,113760,120.0,B96 B98,S\n",
    "807,0,1,\"Andrews, Mr. Thomas Jr\",male,39.0,0,0,112050,0.0,A36,S\n",
    "810,1,1,\"Chambers, Mrs. Norman Campbell (Bertha Griggs)\",female,33.0,1,0,113806,53.1,E8,S\n",
    "821,1,1,\"Hays, Mrs. Charles Melville (Clara Jennings Gregg)\",female,52.0,1,1,12749,93.5,B69,S\n",
    "824,1,3,\"Moor, Mrs. (Beila)\",female,27.0,0,1,392096,12.475,E121,S\n",
    "836,1,1,\"Compton, Miss. Sara Rebecca\",female,39.0,1,1,PC 17756,83.1583,E49,C\n",
    "854,1,1,\"Lines, Miss. Mary Conover\",female,16.0,0,1,PC 17592,39.4,D28,S\n",
    "858,1,1,\"Daly, Mr. Peter Denis \",male,51.0,0,0,113055,26.55,E17,S\n",
    "863,1,1,\"Swift, Mrs. Frederick Joel (Margaret Welles Barron)\",female,48.0,0,0,17466,25.9292,D17,S\n",
    "868,0,1,\"Roebling, Mr. Washington Augustus II\",male,31.0,0,0,PC 17590,50.4958,A24,S\n",
    "872,1,1,\"Beckwith, Mrs. Richard Leonard (Sallie Monypeny)\",female,47.0,1,1,11751,52.5542,D35,S\n",
    "873,0,1,\"Carlsson, Mr. Frans Olof\",male,33.0,0,0,695,5.0,B51 B53 B55,S\n",
    "880,1,1,\"Potter, Mrs. Thomas Jr (Lily Alexenia Wilson)\",female,56.0,0,1,11767,83.1583,C50,C\n",
    "888,1,1,\"Graham, Miss. Margaret Edith\",female,19.0,0,0,112053,30.0,B42,S\n",
    "890,1,1,\"Behr, Mr. Karl Howell\",male,26.0,0,0,111369,30.0,C148,C\"\"\"\n",
    "df = pd.read_csv(StringIO(data))\n",
    "df.to_csv(\"titanic_data.csv\", index=False)"
   ]
  },
  {
   "cell_type": "code",
   "execution_count": 31,
   "metadata": {},
   "outputs": [
    {
     "data": {
      "text/plain": [
       "array([1, 1, 0, 1, 1, 1, 1, 0, 1, 0, 0, 1, 0, 1, 0, 0, 1, 0, 0, 0, 1, 0,\n",
       "       1, 0, 0, 0, 1, 0, 0, 0, 1, 1, 1, 1, 0, 1, 1, 1, 1, 1, 0, 1, 0, 0,\n",
       "       1, 0, 0, 1, 1, 0, 1, 1, 0, 0, 1, 1, 1, 1, 1, 1, 1, 1, 1, 1, 1, 0,\n",
       "       0, 0, 1, 0, 1, 1, 1, 1, 1, 1, 1, 0, 1, 1, 1, 1, 1, 1, 0, 1, 0, 1,\n",
       "       1, 0, 1, 0, 1, 0, 1, 1, 1, 0, 0, 1, 0, 1, 0, 1, 0, 1, 1, 1, 0, 1,\n",
       "       1, 0, 1, 1, 1, 1, 1, 1, 1, 0, 1, 1, 1, 1, 1, 1, 1, 0, 1, 1, 1, 1,\n",
       "       1, 1, 0, 0, 0, 1, 1, 1, 1, 0, 0, 1, 1, 1, 1, 1, 0, 1, 1, 1, 1, 1,\n",
       "       0, 1, 0, 0, 1, 1, 1, 1, 0, 1, 1, 0, 0, 1, 1, 0, 1, 1, 1, 1, 1, 1,\n",
       "       1, 0, 1, 0, 1, 1, 1], dtype=int64)"
      ]
     },
     "execution_count": 31,
     "metadata": {},
     "output_type": "execute_result"
    }
   ],
   "source": [
    "df['Survived'].values"
   ]
  },
  {
   "cell_type": "code",
   "execution_count": 33,
   "metadata": {},
   "outputs": [],
   "source": [
    "categorical_features = ['Sex', 'Embarked', 'Pclass']\n",
    "# Implement an instance of the ColumnTransformer class\n",
    "ct = ColumnTransformer(transformers=[('encoder', OneHotEncoder(), categorical_features)], remainder='passthrough')\n",
    "# Apply the fit_transform method on the instance of ColumnTransformer\n",
    "X = ct.fit_transform(df)\n",
    "# Convert the output into a NumPy array\n",
    "X = np.array(X)\n",
    "# Use LabelEncoder to encode binary categorical data\n",
    "le = LabelEncoder()\n",
    "y = le.fit_transform(df['Survived'])"
   ]
  },
  {
   "cell_type": "code",
   "execution_count": 34,
   "metadata": {},
   "outputs": [
    {
     "name": "stdout",
     "output_type": "stream",
     "text": [
      "Updated matrix of features: \n",
      " [[1.0 0.0 1.0 ... 'PC 17599' 71.2833 'C85']\n",
      " [1.0 0.0 0.0 ... '113803' 53.1 'C123']\n",
      " [0.0 1.0 0.0 ... '17463' 51.8625 'E46']\n",
      " ...\n",
      " [1.0 0.0 1.0 ... '11767' 83.1583 'C50']\n",
      " [1.0 0.0 0.0 ... '112053' 30.0 'B42']\n",
      " [0.0 1.0 1.0 ... '111369' 30.0 'C148']]\n",
      "Updated dependent variable vector: \n",
      " [1 1 0 1 1 1 1 0 1 0 0 1 0 1 0 0 1 0 0 0 1 0 1 0 0 0 1 0 0 0 1 1 1 1 0 1 1\n",
      " 1 1 1 0 1 0 0 1 0 0 1 1 0 1 1 0 0 1 1 1 1 1 1 1 1 1 1 1 0 0 0 1 0 1 1 1 1\n",
      " 1 1 1 0 1 1 1 1 1 1 0 1 0 1 1 0 1 0 1 0 1 1 1 0 0 1 0 1 0 1 0 1 1 1 0 1 1\n",
      " 0 1 1 1 1 1 1 1 0 1 1 1 1 1 1 1 0 1 1 1 1 1 1 0 0 0 1 1 1 1 0 0 1 1 1 1 1\n",
      " 0 1 1 1 1 1 0 1 0 0 1 1 1 1 0 1 1 0 0 1 1 0 1 1 1 1 1 1 1 0 1 0 1 1 1]\n"
     ]
    }
   ],
   "source": [
    "# Print the updated matrix of features and the dependent variable vector\n",
    "print(\"Updated matrix of features: \\n\", X)\n",
    "print(\"Updated dependent variable vector: \\n\", y)"
   ]
  },
  {
   "cell_type": "code",
   "execution_count": 29,
   "metadata": {},
   "outputs": [
    {
     "name": "stdout",
     "output_type": "stream",
     "text": [
      "Original categories: ['red', 'blue', 'green', 'red', 'blue', 'green']\n",
      "Numerical labels: [2 0 1 2 0 1]\n"
     ]
    }
   ],
   "source": [
    "from sklearn.preprocessing import LabelEncoder\n",
    "\n",
    "# Sample categorical data\n",
    "categories = ['red', 'blue', 'green', 'red', 'blue', 'green']\n",
    "\n",
    "# Create a LabelEncoder instance\n",
    "label_encoder = LabelEncoder()\n",
    "\n",
    "# Fit and transform the data\n",
    "numerical_labels = label_encoder.fit_transform(categories)\n",
    "\n",
    "print(\"Original categories:\", categories)\n",
    "print(\"Numerical labels:\", numerical_labels)\n"
   ]
  },
  {
   "cell_type": "markdown",
   "metadata": {
    "colab_type": "text",
    "id": "nhfKXNxlSabC"
   },
   "source": [
    "## Taking care of missing data"
   ]
  },
  {
   "cell_type": "code",
   "execution_count": 11,
   "metadata": {
    "colab": {},
    "colab_type": "code",
    "id": "c93k7ipkSexq"
   },
   "outputs": [],
   "source": [
    "from sklearn.impute import SimpleImputer\n",
    "imputer = SimpleImputer(missing_values=np.nan, strategy='mean')\n",
    "imputer.fit(X[:, 1:3])\n",
    "X[:, 1:3] = imputer.transform(X[:, 1:3])"
   ]
  },
  {
   "cell_type": "code",
   "execution_count": 12,
   "metadata": {
    "colab": {
     "base_uri": "https://localhost:8080/",
     "height": 188
    },
    "colab_type": "code",
    "id": "3UgLdMS_bjq_",
    "outputId": "254af4e0-681e-47f5-aaa7-b9c6f43258e9"
   },
   "outputs": [
    {
     "name": "stdout",
     "output_type": "stream",
     "text": [
      "[['France' 44.0 72000.0]\n",
      " ['Spain' 27.0 48000.0]\n",
      " ['Germany' 30.0 54000.0]\n",
      " ['Spain' 38.0 61000.0]\n",
      " ['Germany' 40.0 63777.77777777778]\n",
      " ['France' 35.0 58000.0]\n",
      " ['Spain' 38.77777777777778 52000.0]\n",
      " ['France' 48.0 79000.0]\n",
      " ['Germany' 50.0 83000.0]\n",
      " ['France' 37.0 67000.0]]\n"
     ]
    }
   ],
   "source": [
    "print(X)"
   ]
  },
  {
   "cell_type": "markdown",
   "metadata": {
    "colab_type": "text",
    "id": "CriG6VzVSjcK"
   },
   "source": [
    "## Encoding categorical data"
   ]
  },
  {
   "cell_type": "markdown",
   "metadata": {
    "colab_type": "text",
    "id": "AhSpdQWeSsFh"
   },
   "source": [
    "### Encoding the Independent Variable"
   ]
  },
  {
   "cell_type": "code",
   "execution_count": 13,
   "metadata": {
    "colab": {},
    "colab_type": "code",
    "id": "5hwuVddlSwVi"
   },
   "outputs": [],
   "source": [
    "from sklearn.compose import ColumnTransformer\n",
    "from sklearn.preprocessing import OneHotEncoder\n",
    "ct = ColumnTransformer(transformers=[('encoder', OneHotEncoder(), [0])], remainder='passthrough')\n",
    "X = np.array(ct.fit_transform(X))"
   ]
  },
  {
   "cell_type": "code",
   "execution_count": 14,
   "metadata": {
    "colab": {
     "base_uri": "https://localhost:8080/",
     "height": 188
    },
    "colab_type": "code",
    "id": "f7QspewyeBfx",
    "outputId": "5b35feef-7fe2-46ef-ce70-80495f94f4ed"
   },
   "outputs": [
    {
     "name": "stdout",
     "output_type": "stream",
     "text": [
      "[[1.0 0.0 0.0 44.0 72000.0]\n",
      " [0.0 0.0 1.0 27.0 48000.0]\n",
      " [0.0 1.0 0.0 30.0 54000.0]\n",
      " [0.0 0.0 1.0 38.0 61000.0]\n",
      " [0.0 1.0 0.0 40.0 63777.77777777778]\n",
      " [1.0 0.0 0.0 35.0 58000.0]\n",
      " [0.0 0.0 1.0 38.77777777777778 52000.0]\n",
      " [1.0 0.0 0.0 48.0 79000.0]\n",
      " [0.0 1.0 0.0 50.0 83000.0]\n",
      " [1.0 0.0 0.0 37.0 67000.0]]\n"
     ]
    }
   ],
   "source": [
    "print(X)"
   ]
  },
  {
   "cell_type": "markdown",
   "metadata": {
    "colab_type": "text",
    "id": "DXh8oVSITIc6"
   },
   "source": [
    "### Encoding the Dependent Variable"
   ]
  },
  {
   "cell_type": "code",
   "execution_count": 15,
   "metadata": {
    "colab": {},
    "colab_type": "code",
    "id": "XgHCShVyTOYY"
   },
   "outputs": [],
   "source": [
    "from sklearn.preprocessing import LabelEncoder\n",
    "le = LabelEncoder()\n",
    "y = le.fit_transform(y)"
   ]
  },
  {
   "cell_type": "code",
   "execution_count": 16,
   "metadata": {
    "colab": {
     "base_uri": "https://localhost:8080/",
     "height": 34
    },
    "colab_type": "code",
    "id": "FyhY8-gPpFCa",
    "outputId": "7f76ef29-5423-4c3e-cf69-45fbc366a997"
   },
   "outputs": [
    {
     "name": "stdout",
     "output_type": "stream",
     "text": [
      "[0 1 0 0 1 1 0 1 0 1]\n"
     ]
    }
   ],
   "source": [
    "print(y)"
   ]
  },
  {
   "cell_type": "markdown",
   "metadata": {
    "colab_type": "text",
    "id": "qb_vcgm3qZKW"
   },
   "source": [
    "## Splitting the dataset into the Training set and Test set"
   ]
  },
  {
   "cell_type": "code",
   "execution_count": 35,
   "metadata": {
    "colab": {},
    "colab_type": "code",
    "id": "pXgA6CzlqbCl"
   },
   "outputs": [],
   "source": [
    "from sklearn.model_selection import train_test_split\n",
    "X_train, X_test, y_train, y_test = train_test_split(X, y, test_size = 0.2, random_state = 1)"
   ]
  },
  {
   "cell_type": "code",
   "execution_count": 36,
   "metadata": {
    "colab": {
     "base_uri": "https://localhost:8080/",
     "height": 154
    },
    "colab_type": "code",
    "id": "GuwQhFdKrYTM",
    "outputId": "de1e527f-c229-4daf-e7c5-ea9d2485148d"
   },
   "outputs": [
    {
     "name": "stdout",
     "output_type": "stream",
     "text": [
      "[[0.0 1.0 1.0 ... '13214' 30.5 'B50']\n",
      " [1.0 0.0 1.0 ... 'PC 17757' 227.525 'C62 C64']\n",
      " [1.0 0.0 0.0 ... 'S.O./P.P. 3' 10.5 'E77']\n",
      " ...\n",
      " [1.0 0.0 0.0 ... '248733' 13.0 'F33']\n",
      " [0.0 1.0 0.0 ... '17474' 57.0 'B20']\n",
      " [1.0 0.0 1.0 ... '11813' 76.2917 'D15']]\n"
     ]
    }
   ],
   "source": [
    "print(X_train)"
   ]
  },
  {
   "cell_type": "code",
   "execution_count": 37,
   "metadata": {
    "colab": {
     "base_uri": "https://localhost:8080/",
     "height": 51
    },
    "colab_type": "code",
    "id": "TUrX_Tvcrbi4",
    "outputId": "9a041a9b-2642-4828-fa2f-a431d7d77631"
   },
   "outputs": [
    {
     "name": "stdout",
     "output_type": "stream",
     "text": [
      "[[1.0 0.0 0.0 0.0 1.0 1.0 0.0 0.0 298 0 'Allison, Miss. Helen Loraine'\n",
      "  2.0 1 2 '113781' 151.55 'C22 C26']\n",
      " [0.0 1.0 0.0 0.0 1.0 1.0 0.0 0.0 457 0 'Millet, Mr. Francis Davis' 65.0\n",
      "  0 0 '13509' 26.55 'E38']\n",
      " [1.0 0.0 1.0 0.0 0.0 1.0 0.0 0.0 582 1\n",
      "  'Thayer, Mrs. John Borland (Marian Longstreth Morris)' 39.0 1 1 '17421'\n",
      "  110.8833 'C68']\n",
      " [1.0 0.0 0.0 0.0 1.0 1.0 0.0 0.0 872 1\n",
      "  'Beckwith, Mrs. Richard Leonard (Sallie Monypeny)' 47.0 1 1 '11751'\n",
      "  52.5542 'D35']\n",
      " [1.0 0.0 0.0 0.0 1.0 1.0 0.0 0.0 269 1\n",
      "  'Graham, Mrs. William Thompson (Edith Junkins)' 58.0 0 1 'PC 17582'\n",
      "  153.4625 'C125']\n",
      " [0.0 1.0 1.0 0.0 0.0 1.0 0.0 0.0 790 0 'Guggenheim, Mr. Benjamin' 46.0 0\n",
      "  0 'PC 17593' 79.2 'B82 B84']\n",
      " [0.0 1.0 0.0 0.0 1.0 0.0 1.0 0.0 194 1 'Navratil, Master. Michel M' 3.0\n",
      "  1 1 '230080' 26.0 'F2']\n",
      " [0.0 1.0 0.0 0.0 1.0 1.0 0.0 0.0 868 0\n",
      "  'Roebling, Mr. Washington Augustus II' 31.0 0 0 'PC 17590' 50.4958\n",
      "  'A24']\n",
      " [1.0 0.0 0.0 0.0 1.0 1.0 0.0 0.0 731 1 'Allen, Miss. Elisabeth Walton'\n",
      "  29.0 0 0 '24160' 211.3375 'B5']\n",
      " [1.0 0.0 0.0 0.0 1.0 1.0 0.0 0.0 586 1 'Taussig, Miss. Ruth' 18.0 0 2\n",
      "  '110413' 79.65 'E68']\n",
      " [0.0 1.0 1.0 0.0 0.0 1.0 0.0 0.0 98 1 'Greenfield, Mr. William Bertram'\n",
      "  23.0 0 1 'PC 17759' 63.3583 'D10 D12']\n",
      " [1.0 0.0 0.0 0.0 1.0 1.0 0.0 0.0 541 1 'Crosby, Miss. Harriet R' 36.0 0\n",
      "  2 'WE/P 5735' 71.0 'B22']\n",
      " [0.0 1.0 0.0 0.0 1.0 1.0 0.0 0.0 626 0 'Sutton, Mr. Frederick' 61.0 0 0\n",
      "  '36963' 32.3208 'D50']\n",
      " [1.0 0.0 0.0 0.0 1.0 0.0 1.0 0.0 67 1 'Nye, Mrs. (Elizabeth Ramell)'\n",
      "  29.0 0 0 'C.A. 29395' 10.5 'F33']\n",
      " [0.0 1.0 0.0 0.0 1.0 1.0 0.0 0.0 391 1 'Carter, Mr. William Ernest' 36.0\n",
      "  1 2 '113760' 120.0 'B96 B98']\n",
      " [1.0 0.0 0.0 0.0 1.0 1.0 0.0 0.0 12 1 'Bonnell, Miss. Elizabeth' 58.0 0\n",
      "  0 '113783' 26.55 'C103']\n",
      " [1.0 0.0 1.0 0.0 0.0 0.0 1.0 0.0 474 1\n",
      "  'Jerwan, Mrs. Amin S (Marie Marthe Thuillard)' 23.0 0 0\n",
      "  'SC/AH Basle 541' 13.7917 'D']\n",
      " [0.0 1.0 0.0 0.0 1.0 1.0 0.0 0.0 93 0 'Chaffee, Mr. Herbert Fuller' 46.0\n",
      "  1 0 'W.E.P. 5734' 61.175 'E31']\n",
      " [1.0 0.0 1.0 0.0 0.0 1.0 0.0 0.0 178 0 'Isham, Miss. Ann Elizabeth' 50.0\n",
      "  0 0 'PC 17595' 28.7125 'C49']\n",
      " [0.0 1.0 1.0 0.0 0.0 1.0 0.0 0.0 119 0 'Baxter, Mr. Quigg Edmond' 24.0 0\n",
      "  1 'PC 17558' 247.5208 'B58 B60']\n",
      " [0.0 1.0 0.0 0.0 1.0 1.0 0.0 0.0 463 0 'Gee, Mr. Arthur H' 47.0 0 0\n",
      "  '111320' 38.5 'E63']\n",
      " [1.0 0.0 0.0 0.0 1.0 1.0 0.0 0.0 559 1\n",
      "  'Taussig, Mrs. Emil (Tillie Mandelbaum)' 39.0 1 1 '110413' 79.65 'E67']\n",
      " [1.0 0.0 0.0 0.0 1.0 1.0 0.0 0.0 610 1 'Shutes, Miss. Elizabeth W' 40.0\n",
      "  0 0 'PC 17582' 153.4625 'C125']\n",
      " [0.0 1.0 1.0 0.0 0.0 1.0 0.0 0.0 454 1 'Goldenberg, Mr. Samuel L' 49.0 1\n",
      "  0 '17453' 89.1042 'C92']\n",
      " [1.0 0.0 0.0 0.0 1.0 1.0 0.0 0.0 270 1 'Bissette, Miss. Amelia' 35.0 0 0\n",
      "  'PC 17760' 135.6333 'C99']\n",
      " [1.0 0.0 0.0 0.0 1.0 1.0 0.0 0.0 782 1\n",
      "  'Dick, Mrs. Albert Adrian (Vera Gillespie)' 17.0 1 0 '17474' 57.0 'B20']\n",
      " [0.0 1.0 0.0 0.0 1.0 0.0 0.0 1.0 430 1\n",
      "  'Pickard, Mr. Berk (Berk Trembisky)' 32.0 0 0 'SOTON/O.Q. 392078' 8.05\n",
      "  'E10']\n",
      " [1.0 0.0 1.0 0.0 0.0 1.0 0.0 0.0 308 1\n",
      "  'Penasco y Castellana, Mrs. Victor de Satode (Maria Josefa Perez de Soto y Vallejo)'\n",
      "  17.0 1 0 'PC 17758' 108.9 'C65']\n",
      " [1.0 0.0 0.0 0.0 1.0 0.0 0.0 1.0 252 0\n",
      "  'Strom, Mrs. Wilhelm (Elna Matilda Persson)' 29.0 1 1 '347054' 10.4625\n",
      "  'G6']\n",
      " [1.0 0.0 0.0 0.0 1.0 1.0 0.0 0.0 766 1\n",
      "  'Hogeboom, Mrs. John C (Anna Andrews)' 51.0 1 0 '13502' 77.9583 'D11']\n",
      " [0.0 1.0 1.0 0.0 0.0 1.0 0.0 0.0 584 0 'Ross, Mr. John Hugo' 36.0 0 0\n",
      "  '13049' 40.125 'A10']\n",
      " [0.0 1.0 1.0 0.0 0.0 1.0 0.0 0.0 210 1 'Blank, Mr. Henry' 40.0 0 0\n",
      "  '112277' 31.0 'A31']\n",
      " [0.0 1.0 0.0 1.0 0.0 1.0 0.0 0.0 246 0 'Minahan, Dr. William Edward'\n",
      "  44.0 2 0 '19928' 90.0 'C78']\n",
      " [1.0 0.0 1.0 0.0 0.0 1.0 0.0 0.0 312 1 'Ryerson, Miss. Emily Borie' 18.0\n",
      "  2 2 'PC 17608' 262.375 'B57 B59 B63 B66']\n",
      " [0.0 1.0 0.0 0.0 1.0 1.0 0.0 0.0 103 0 'White, Mr. Richard Frasar' 21.0\n",
      "  0 1 '35281' 77.2875 'D26']\n",
      " [0.0 1.0 0.0 0.0 1.0 0.0 1.0 0.0 22 1 'Beesley, Mr. Lawrence' 34.0 0 0\n",
      "  '248698' 13.0 'D56']\n",
      " [1.0 0.0 0.0 0.0 1.0 0.0 1.0 0.0 517 1 'Lemore, Mrs. (Amelia Milley)'\n",
      "  34.0 0 0 'C.A. 34260' 10.5 'F33']]\n"
     ]
    }
   ],
   "source": [
    "print(X_test)"
   ]
  },
  {
   "cell_type": "code",
   "execution_count": 38,
   "metadata": {
    "colab": {
     "base_uri": "https://localhost:8080/",
     "height": 34
    },
    "colab_type": "code",
    "id": "pSMHiIsWreQY",
    "outputId": "5afe91e0-9244-4bf5-ec1b-e3e092b85c08"
   },
   "outputs": [
    {
     "name": "stdout",
     "output_type": "stream",
     "text": [
      "[1 1 0 1 1 1 1 1 0 1 1 1 0 1 1 0 1 1 1 1 0 0 1 0 0 1 0 0 1 1 1 1 1 0 0 1 0\n",
      " 1 1 1 1 1 0 1 1 0 1 0 1 1 0 1 1 1 1 0 0 1 1 1 1 0 1 1 1 1 1 1 1 1 0 0 1 1\n",
      " 1 1 0 1 0 0 0 1 0 0 1 0 1 1 1 1 0 0 1 1 0 1 0 1 1 0 1 1 0 0 1 0 0 1 1 1 1\n",
      " 1 1 1 1 1 1 1 1 1 1 0 0 0 0 1 1 1 0 0 0 1 1 1 1 0 0 1 1 1 1 1 1 1 1 1]\n"
     ]
    }
   ],
   "source": [
    "print(y_train)"
   ]
  },
  {
   "cell_type": "code",
   "execution_count": 39,
   "metadata": {
    "colab": {
     "base_uri": "https://localhost:8080/",
     "height": 34
    },
    "colab_type": "code",
    "id": "I_tW7H56rgtW",
    "outputId": "2a93f141-2a99-4a69-eec5-c82a3bb8d36b"
   },
   "outputs": [
    {
     "name": "stdout",
     "output_type": "stream",
     "text": [
      "[0 0 1 1 1 0 1 0 1 1 1 1 0 1 1 1 1 0 0 0 0 1 1 1 1 1 1 1 0 1 0 1 0 1 0 1 1]\n"
     ]
    }
   ],
   "source": [
    "print(y_test)"
   ]
  },
  {
   "cell_type": "markdown",
   "metadata": {
    "colab_type": "text",
    "id": "TpGqbS4TqkIR"
   },
   "source": [
    "## Feature Scaling"
   ]
  },
  {
   "cell_type": "code",
   "execution_count": 0,
   "metadata": {
    "colab": {},
    "colab_type": "code",
    "id": "AxjSUXFQqo-3"
   },
   "outputs": [],
   "source": [
    "from sklearn.preprocessing import StandardScaler\n",
    "sc = StandardScaler()\n",
    "X_train[:, 3:] = sc.fit_transform(X_train[:, 3:])\n",
    "X_test[:, 3:] = sc.transform(X_test[:, 3:])"
   ]
  },
  {
   "cell_type": "code",
   "execution_count": 0,
   "metadata": {
    "colab": {
     "base_uri": "https://localhost:8080/",
     "height": 154
    },
    "colab_type": "code",
    "id": "DWPET8ZdlMnu",
    "outputId": "dea86927-5124-4e2a-e974-2804df9a913c"
   },
   "outputs": [
    {
     "name": "stdout",
     "output_type": "stream",
     "text": [
      "[[0.0 0.0 1.0 -0.19159184384578545 -1.0781259408412425]\n",
      " [0.0 1.0 0.0 -0.014117293757057777 -0.07013167641635372]\n",
      " [1.0 0.0 0.0 0.566708506533324 0.633562432710455]\n",
      " [0.0 0.0 1.0 -0.30453019390224867 -0.30786617274297867]\n",
      " [0.0 0.0 1.0 -1.9018011447007988 -1.420463615551582]\n",
      " [1.0 0.0 0.0 1.1475343068237058 1.232653363453549]\n",
      " [0.0 1.0 0.0 1.4379472069688968 1.5749910381638885]\n",
      " [1.0 0.0 0.0 -0.7401495441200351 -0.5646194287757332]]\n"
     ]
    }
   ],
   "source": [
    "print(X_train)"
   ]
  },
  {
   "cell_type": "code",
   "execution_count": 0,
   "metadata": {
    "colab": {
     "base_uri": "https://localhost:8080/",
     "height": 51
    },
    "colab_type": "code",
    "id": "sTXykB_QlRjE",
    "outputId": "b68f0cfc-d07c-48cb-80d0-6800028c41f9"
   },
   "outputs": [
    {
     "name": "stdout",
     "output_type": "stream",
     "text": [
      "[[0.0 1.0 0.0 -1.4661817944830124 -0.9069571034860727]\n",
      " [1.0 0.0 0.0 -0.44973664397484414 0.2056403393225306]]\n"
     ]
    }
   ],
   "source": [
    "print(X_test)"
   ]
  }
 ],
 "metadata": {
  "colab": {
   "collapsed_sections": [],
   "name": "data_preprocessing_tools.ipynb",
   "provenance": [],
   "toc_visible": true
  },
  "kernelspec": {
   "display_name": "Python 3 (ipykernel)",
   "language": "python",
   "name": "python3"
  },
  "language_info": {
   "codemirror_mode": {
    "name": "ipython",
    "version": 3
   },
   "file_extension": ".py",
   "mimetype": "text/x-python",
   "name": "python",
   "nbconvert_exporter": "python",
   "pygments_lexer": "ipython3",
   "version": "3.11.3"
  }
 },
 "nbformat": 4,
 "nbformat_minor": 1
}
